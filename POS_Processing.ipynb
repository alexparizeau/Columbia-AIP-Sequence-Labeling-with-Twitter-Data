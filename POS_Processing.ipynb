{
 "cells": [
  {
   "cell_type": "code",
   "execution_count": 1,
   "id": "85733af5",
   "metadata": {},
   "outputs": [],
   "source": [
    "#pip install datasets\n",
    "#pip install huggingface transformers"
   ]
  },
  {
   "cell_type": "code",
   "execution_count": 2,
   "id": "a2c827b9",
   "metadata": {},
   "outputs": [],
   "source": [
    "#importing all packages to be used in this file\n",
    "import pandas as pd\n",
    "import numpy as np\n",
    "from datasets import list_datasets, load_dataset, Dataset\n",
    "from pprint import pprint\n",
    "import matplotlib.pyplot as plt\n",
    "from tqdm import tqdm\n",
    "from IPython import display\n",
    "import pickle"
   ]
  },
  {
   "cell_type": "code",
   "execution_count": 3,
   "id": "42f91c34",
   "metadata": {},
   "outputs": [],
   "source": [
    "#reading in the POS twitter data\n",
    "file = \"oct27.supertsv\"\n",
    "data = open(file, \"r\",encoding='utf-8')\n",
    "text = data.read()"
   ]
  },
  {
   "cell_type": "code",
   "execution_count": 4,
   "id": "39f40f53",
   "metadata": {},
   "outputs": [
    {
     "name": "stderr",
     "output_type": "stream",
     "text": [
      "Reusing dataset conll2003 (/Users/alexparizeau/.cache/huggingface/datasets/conll2003/conll2003/1.0.0/63f4ebd1bcb7148b1644497336fd74643d4ce70123334431a3c053b7ee4e96ee)\n"
     ]
    },
    {
     "data": {
      "application/vnd.jupyter.widget-view+json": {
       "model_id": "3c467154812e49de9a0a49316fd7e210",
       "version_major": 2,
       "version_minor": 0
      },
      "text/plain": [
       "  0%|          | 0/3 [00:00<?, ?it/s]"
      ]
     },
     "metadata": {},
     "output_type": "display_data"
    }
   ],
   "source": [
    "#loading POS CONLL data\n",
    "con_data = load_dataset('conll2003')"
   ]
  },
  {
   "cell_type": "code",
   "execution_count": 5,
   "id": "b7003087",
   "metadata": {},
   "outputs": [
    {
     "ename": "NameError",
     "evalue": "name 'POS_Tag_Mapping' is not defined",
     "output_type": "error",
     "traceback": [
      "\u001b[0;31m---------------------------------------------------------------------------\u001b[0m",
      "\u001b[0;31mNameError\u001b[0m                                 Traceback (most recent call last)",
      "\u001b[0;32m/var/folders/k6/h2htqxxs52q_97l_7vctx86w0000gn/T/ipykernel_51406/3184564625.py\u001b[0m in \u001b[0;36m<module>\u001b[0;34m\u001b[0m\n\u001b[0;32m----> 1\u001b[0;31m \u001b[0mdisplay\u001b[0m\u001b[0;34m.\u001b[0m\u001b[0mImage\u001b[0m\u001b[0;34m(\u001b[0m\u001b[0mPOS_Tag_Mapping\u001b[0m\u001b[0;34m.\u001b[0m\u001b[0mpng\u001b[0m\u001b[0;34m)\u001b[0m\u001b[0;34m\u001b[0m\u001b[0;34m\u001b[0m\u001b[0m\n\u001b[0m",
      "\u001b[0;31mNameError\u001b[0m: name 'POS_Tag_Mapping' is not defined"
     ]
    }
   ],
   "source": [
    "display.Image(POS_Tag_Mapping.png)"
   ]
  },
  {
   "cell_type": "code",
   "execution_count": null,
   "id": "dd20662b",
   "metadata": {},
   "outputs": [],
   "source": [
    "#NEW CONLL POS TAGS MAPPED TO GIMPEL\n",
    "\n",
    "\"\"\"this is the original --> {'\"':0, \"''\": 1, '#': 2, '$': 3, '(': 4, ')': 5, ',': 6, '.': 7, ':': 8, '``': 9, 'CC': 10, 'CD': 11, 'DT': 12,\n",
    " 'EX': 13, 'FW': 14, 'IN': 15, 'JJ': 16, 'JJR': 17, 'JJS': 18, 'LS': 19, 'MD': 20, 'NN': 21, 'NNP': 22, 'NNPS': 23,\n",
    " 'NNS': 24, 'NN|SYM': 25, 'PDT': 26, 'POS': 27, 'PRP': 28, 'PRP$': 29, 'RB': 30, 'RBR': 31, 'RBS': 32, 'RP': 33,\n",
    " 'SYM': 34, 'TO': 35, 'UH': 36, 'VB': 37, 'VBD': 38, 'VBG': 39, 'VBN': 40, 'VBP': 41, 'VBZ': 42, 'WDT': 43,\n",
    " 'WP': 44, 'WP$': 45, 'WRB': 46}\"\"\"\n",
    "\n",
    "pos_tag_dict = { 0:',', 1:',',2:',', 3:',', 4:',', 5:',', 6:',', 7:',', 8:',', 9:',', 10:'&', 11:'$',\n",
    "                12:'D', 13:'X', 14:'G', 15:'P', 16:'A', 17:'A', 18:'A', 19:'G', 20:'V', 21:'N', 22:'^', 23:'^',\n",
    "                24:'N', 25:'N', 26:'X', 27:'G', 28:'O', 29:'D', 30:'R', 31:'R', 32:'R', 33:'R', 34:'G', 35:'P',\n",
    "                36:'!', 37:'V', 38:'V', 39:'V', 40:'V', 41:'V', 42:'V', 43:'D', 44:'O', 45:'D', 46:'R'}\n",
    "pos_tag_key_list = list(pos_tag_dict.keys())\n",
    "pos_tag_val_list = list(pos_tag_dict.values())"
   ]
  },
  {
   "cell_type": "code",
   "execution_count": null,
   "id": "60cf70d9",
   "metadata": {},
   "outputs": [],
   "source": [
    "#This code puts the conll2003 data into more digestable form for processing\n",
    "\"\"\"\n",
    "full_con_texts = list()\n",
    "for j in tqdm(range(0,len(con_data['train']['tokens'])-1)):\n",
    "    sent_l = list()\n",
    "    sentence = con_data['train']['tokens'][j]\n",
    "    POS_tags_for_sentence = con_data['train']['pos_tags'][j]\n",
    "    for i in range(0,len(sentence)-1):\n",
    "        token = sentence[i]\n",
    "        tag = pos_tag_dict[POS_tags_for_sentence[i]]\n",
    "        sent_l.append((token,tag))\n",
    "    full_con_texts.append(sent_l)\"\"\""
   ]
  },
  {
   "cell_type": "code",
   "execution_count": null,
   "id": "b2bab216",
   "metadata": {},
   "outputs": [],
   "source": [
    "#writing the output list to a pickle so we can avoid rerunning above code\n",
    "\"\"\"with open('conllPOS.pkl', 'wb') as f:\n",
    "    pickle.dump(full_con_texts, f)\"\"\""
   ]
  },
  {
   "cell_type": "code",
   "execution_count": null,
   "id": "16e8172f",
   "metadata": {},
   "outputs": [],
   "source": [
    "with open('conllPOS.pkl', 'rb') as f:\n",
    "    full_con_texts = pickle.load(f)"
   ]
  },
  {
   "cell_type": "code",
   "execution_count": null,
   "id": "7cb86603",
   "metadata": {},
   "outputs": [],
   "source": []
  }
 ],
 "metadata": {
  "kernelspec": {
   "display_name": "Python 3 (ipykernel)",
   "language": "python",
   "name": "python3"
  },
  "language_info": {
   "codemirror_mode": {
    "name": "ipython",
    "version": 3
   },
   "file_extension": ".py",
   "mimetype": "text/x-python",
   "name": "python",
   "nbconvert_exporter": "python",
   "pygments_lexer": "ipython3",
   "version": "3.9.7"
  }
 },
 "nbformat": 4,
 "nbformat_minor": 5
}
