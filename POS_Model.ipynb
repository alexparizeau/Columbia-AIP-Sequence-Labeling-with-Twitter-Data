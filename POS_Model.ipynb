{
  "nbformat": 4,
  "nbformat_minor": 0,
  "metadata": {
    "colab": {
      "name": "POS_Model.ipynb",
      "provenance": [],
      "collapsed_sections": [],
      "include_colab_link": true
    },
    "kernelspec": {
      "name": "python3",
      "display_name": "Python 3"
    },
    "language_info": {
      "name": "python"
    }
  },
  "cells": [
    {
      "cell_type": "markdown",
      "metadata": {
        "id": "view-in-github",
        "colab_type": "text"
      },
      "source": [
        "<a href=\"https://colab.research.google.com/github/alexparizeau/IEORE4524-P033B/blob/main/POS_Model.ipynb\" target=\"_parent\"><img src=\"https://colab.research.google.com/assets/colab-badge.svg\" alt=\"Open In Colab\"/></a>"
      ]
    },
    {
      "cell_type": "code",
      "execution_count": 9,
      "metadata": {
        "id": "YqD6DVmWHE5m"
      },
      "outputs": [],
      "source": [
        "#add any libraries and packages to be installed in this block, anything commented out is a pip-install that may be needed if you don't have the library installed already\n",
        "#!pip install huggingface\n",
        "#!pip install transformers\n",
        "import torch\n",
        "import huggingface\n",
        "from torchvision import transforms, datasets\n",
        "from transformers import pipeline"
      ]
    },
    {
      "cell_type": "code",
      "source": [
        "# bring in CONLL Dataset --> figure out format\n",
        "# test"
      ],
      "metadata": {
        "id": "tG9wjtZxHGFL"
      },
      "execution_count": null,
      "outputs": []
    },
    {
      "cell_type": "code",
      "source": [
        ""
      ],
      "metadata": {
        "id": "yIDh3dwiJStP"
      },
      "execution_count": null,
      "outputs": []
    }
  ]
}